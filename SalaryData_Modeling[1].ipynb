{
 "cells": [
  {
   "cell_type": "code",
   "execution_count": 23,
   "metadata": {},
   "outputs": [
    {
     "name": "stdout",
     "output_type": "stream",
     "text": [
      "<class 'pandas.core.frame.DataFrame'>\n",
      "RangeIndex: 6704 entries, 0 to 6703\n",
      "Data columns (total 6 columns):\n",
      " #   Column               Non-Null Count  Dtype  \n",
      "---  ------               --------------  -----  \n",
      " 0   Age                  6702 non-null   float64\n",
      " 1   Gender               6702 non-null   object \n",
      " 2   Education Level      6701 non-null   object \n",
      " 3   Job Title            6702 non-null   object \n",
      " 4   Years of Experience  6701 non-null   float64\n",
      " 5   Salary               6699 non-null   float64\n",
      "dtypes: float64(3), object(3)\n",
      "memory usage: 314.4+ KB\n",
      "None\n",
      "               Age  Years of Experience         Salary\n",
      "count  6702.000000          6701.000000    6699.000000\n",
      "mean     33.620859             8.094687  115326.964771\n",
      "std       7.614633             6.059003   52786.183911\n",
      "min      21.000000             0.000000     350.000000\n",
      "25%      28.000000             3.000000   70000.000000\n",
      "50%      32.000000             7.000000  115000.000000\n",
      "75%      38.000000            12.000000  160000.000000\n",
      "max      62.000000            34.000000  250000.000000\n"
     ]
    }
   ],
   "source": [
    "import pandas as pd\n",
    "\n",
    "# Load dataset\n",
    "\n",
    "data = pd.read_csv(\"Salary_Data.csv\")\n",
    "\n",
    "# Lihat informasi dasar dan ringkasan data\n",
    "print(data.info())\n",
    "print(data.describe())\n"
   ]
  },
  {
   "cell_type": "code",
   "execution_count": 24,
   "metadata": {},
   "outputs": [
    {
     "name": "stdout",
     "output_type": "stream",
     "text": [
      "Age                    2\n",
      "Gender                 2\n",
      "Education Level        3\n",
      "Job Title              2\n",
      "Years of Experience    3\n",
      "Salary                 5\n",
      "dtype: int64\n"
     ]
    }
   ],
   "source": [
    "print(data.isnull().sum())"
   ]
  },
  {
   "cell_type": "code",
   "execution_count": 25,
   "metadata": {},
   "outputs": [
    {
     "name": "stdout",
     "output_type": "stream",
     "text": [
      "Age                    0\n",
      "Gender                 0\n",
      "Education Level        0\n",
      "Job Title              0\n",
      "Years of Experience    0\n",
      "Salary                 0\n",
      "dtype: int64\n"
     ]
    },
    {
     "name": "stderr",
     "output_type": "stream",
     "text": [
      "C:\\Users\\Yessy Arye Yustraini\\AppData\\Local\\Temp\\ipykernel_8128\\3029504502.py:7: FutureWarning: A value is trying to be set on a copy of a DataFrame or Series through chained assignment using an inplace method.\n",
      "The behavior will change in pandas 3.0. This inplace method will never work because the intermediate object on which we are setting values always behaves as a copy.\n",
      "\n",
      "For example, when doing 'df[col].method(value, inplace=True)', try using 'df.method({col: value}, inplace=True)' or df[col] = df[col].method(value) instead, to perform the operation inplace on the original object.\n",
      "\n",
      "\n",
      "  data[col].fillna(data[col].mean(), inplace=True)\n",
      "C:\\Users\\Yessy Arye Yustraini\\AppData\\Local\\Temp\\ipykernel_8128\\3029504502.py:11: FutureWarning: A value is trying to be set on a copy of a DataFrame or Series through chained assignment using an inplace method.\n",
      "The behavior will change in pandas 3.0. This inplace method will never work because the intermediate object on which we are setting values always behaves as a copy.\n",
      "\n",
      "For example, when doing 'df[col].method(value, inplace=True)', try using 'df.method({col: value}, inplace=True)' or df[col] = df[col].method(value) instead, to perform the operation inplace on the original object.\n",
      "\n",
      "\n",
      "  data[col].fillna(data[col].mode()[0], inplace=True)\n"
     ]
    }
   ],
   "source": [
    "# Mengidentifikasi kolom numerik dan kategorikal\n",
    "numerical_cols = data.select_dtypes(include=['int64', 'float64']).columns\n",
    "categorical_cols = data.select_dtypes(include=['object', 'category']).columns\n",
    "\n",
    "# Mengisi nilai kosong pada kolom numerik dengan mean\n",
    "for col in numerical_cols:\n",
    "    data[col].fillna(data[col].mean(), inplace=True)\n",
    "\n",
    "# Mengisi nilai kosong pada kolom kategorikal dengan modus\n",
    "for col in categorical_cols:\n",
    "    data[col].fillna(data[col].mode()[0], inplace=True)\n",
    "\n",
    "# Mengisi nilai kosong pada kolom target (Salary) dengan rata-rata\n",
    "data['Salary'] = data['Salary'].fillna(data['Salary'].mean())\n",
    "\n",
    "# Memeriksa nilai kosong setelah pengisian\n",
    "print(data.isnull().sum())\n"
   ]
  },
  {
   "cell_type": "code",
   "execution_count": 26,
   "metadata": {},
   "outputs": [
    {
     "name": "stdout",
     "output_type": "stream",
     "text": [
      "    Age  Gender Education Level          Job Title  Years of Experience  \\\n",
      "0  32.0    Male      Bachelor's  Software Engineer                  5.0   \n",
      "1  28.0  Female        Master's       Data Analyst                  3.0   \n",
      "2  45.0    Male             PhD     Senior Manager                 15.0   \n",
      "3  36.0  Female      Bachelor's    Sales Associate                  7.0   \n",
      "4  52.0    Male        Master's           Director                 20.0   \n",
      "\n",
      "     Salary  \n",
      "0   90000.0  \n",
      "1   65000.0  \n",
      "2  150000.0  \n",
      "3   60000.0  \n",
      "4  200000.0  \n"
     ]
    }
   ],
   "source": [
    "from sklearn.model_selection import train_test_split\n",
    "from sklearn.preprocessing import StandardScaler, OneHotEncoder\n",
    "from sklearn.compose import ColumnTransformer\n",
    "from sklearn.pipeline import Pipeline\n",
    "\n",
    "# Pisahkan fitur dan target \n",
    "X = data.drop(columns=['Salary']) \n",
    "y = data['Salary']\n",
    "\n",
    "# Identifikasi tipe kolom\n",
    "categorical_cols = X.select_dtypes(include=['object']).columns\n",
    "numerical_cols = X.select_dtypes(include=['int64', 'float64']).columns\n",
    "\n",
    "# Preprocessing Pipeline\n",
    "preprocessor = ColumnTransformer(\n",
    "    transformers=[\n",
    "        ('num', StandardScaler(), numerical_cols),\n",
    "        ('cat', OneHotEncoder(handle_unknown='ignore'), categorical_cols)\n",
    "    ]\n",
    ")\n",
    "\n",
    "# Membagi data menjadi training dan testing\n",
    "X_train, X_test, y_train, y_test = train_test_split(X, y, test_size=0.2, random_state=42)\n",
    "\n",
    "print(data.head())"
   ]
  },
  {
   "cell_type": "code",
   "execution_count": 27,
   "metadata": {},
   "outputs": [
    {
     "data": {
      "image/png": "[encoded data removed]",
      "text/plain": [
       "<Figure size 1000x500 with 1 Axes>"
      ]
     },
     "metadata": {},
     "output_type": "display_data"
    }
   ],
   "source": [
    "import matplotlib.pyplot as plt\n",
    "\n",
    "plt.figure(figsize=(10, 5))\n",
    "plt.bar(data['Years of Experience'], data['Salary'])\n",
    "plt.xlabel('Years of Experience')\n",
    "plt.ylabel('Salary')\n",
    "plt.title('Years of Experience vs Salary')\n",
    "plt.show()"
   ]
  },
  {
   "cell_type": "code",
   "execution_count": 28,
   "metadata": {},
   "outputs": [
    {
     "data": {
      "image/png": "[encoded data removed]",
      "text/plain": [
       "<Figure size 1000x500 with 2 Axes>"
      ]
     },
     "metadata": {},
     "output_type": "display_data"
    }
   ],
   "source": [
    "import seaborn as sns\n",
    "\n",
    "# Exclude categorical columns for correlation calculation\n",
    "corr_matrix = data.select_dtypes(include=['int64', 'float64']).corr()\n",
    "\n",
    "plt.figure(figsize=(10, 5))\n",
    "sns.heatmap(corr_matrix, annot=True, fmt='.2f', cmap='coolwarm')\n",
    "plt.title('Correlation Features')\n",
    "plt.show()"
   ]
  },
  {
   "cell_type": "code",
   "execution_count": 29,
   "metadata": {},
   "outputs": [
    {
     "name": "stdout",
     "output_type": "stream",
     "text": [
      "Linear Regression - MAE: 12574.22, R2: 0.879\n",
      "Decision Tres - MAE: 2668.56, R2: 0.975\n",
      "K-Nearest Neighbors - MAE: 3886.22, R2: 0.969\n",
      "Random Forest - MAE: 2756.34, R2: 0.981\n",
      "Support Vector Machine - MAE: 44445.16, R2: 0.012\n"
     ]
    }
   ],
   "source": [
    "from sklearn.linear_model import LinearRegression\n",
    "from sklearn.ensemble import RandomForestRegressor\n",
    "from sklearn.tree import DecisionTreeRegressor\n",
    "from sklearn.neighbors import KNeighborsRegressor\n",
    "from sklearn.svm import SVR\n",
    "from sklearn.metrics import mean_squared_error, r2_score, mean_absolute_error\n",
    "\n",
    "models = {\n",
    "    'Linear Regression': LinearRegression(),\n",
    "    'Decision Tres' : DecisionTreeRegressor(random_state=42),\n",
    "    'K-Nearest Neighbors': KNeighborsRegressor(n_neighbors=5),\n",
    "    'Random Forest': RandomForestRegressor(random_state=42),\n",
    "    'Support Vector Machine': SVR()\n",
    "}\n",
    "\n",
    "# Pipeline untuk setiap model\n",
    "results = {}\n",
    "for name, model in models.items():\n",
    "    pipeline = Pipeline(steps=[('preprocessor', preprocessor), ('model', model)])\n",
    "    pipeline.fit(X_train, y_train)\n",
    "    y_pred = pipeline.predict(X_test)\n",
    "    mae = mean_absolute_error(y_test, y_pred)\n",
    "    r2 = r2_score(y_test, y_pred)\n",
    "    results[name] = {'MAE': mae, 'R2': r2}\n",
    "    print(f\"{name} - MAE: {mae:.2f}, R2: {r2:.3f}\")"
   ]
  },
  {
   "cell_type": "code",
   "execution_count": null,
   "metadata": {},
   "outputs": [
    {
     "name": "stdout",
     "output_type": "stream",
     "text": [
      "Random Forest - Train: MAE: 1508.62, R2: 0.995\n",
      "Random Forest - Test: MAE: 2756.34, R2: 0.981\n",
      "Model tidak overfitting(MAE).\n",
      "Model tidak overfitting(R2).\n"
     ]
    }
   ],
   "source": [
    "from sklearn.metrics import mean_absolute_error, r2_score\n",
    "\n",
    "# Gunakan Random Forest\n",
    "model = RandomForestRegressor(random_state=42)\n",
    "\n",
    "# Pipeline untuk Random Forest\n",
    "pipeline = Pipeline(steps=[('preprocessor', preprocessor), ('model', model)])\n",
    "pipeline.fit(X_train, y_train)\n",
    "\n",
    "# Evaluasi pada data train\n",
    "y_train_pred = pipeline.predict(X_train)\n",
    "mae_train = mean_absolute_error(y_train, y_train_pred)\n",
    "r2_train = r2_score(y_train, y_train_pred)\n",
    "\n",
    "# Evaluasi pada data test\n",
    "y_test_pred = pipeline.predict(X_test)\n",
    "mae_test = mean_absolute_error(y_test, y_test_pred)\n",
    "r2_test = r2_score(y_test, y_test_pred)\n",
    "\n",
    "# Output hasil\n",
    "print(f\"Random Forest - Train: MAE: {mae_train:.2f}, R2: {r2_train:.3f}\")\n",
    "print(f\"Random Forest - Test: MAE: {mae_test:.2f}, R2: {r2_test:.3f}\")\n",
    "\n",
    "# Bandingkan performa dan mae model\n",
    "if mae_train < mae_test:\n",
    "    print(\"Model tidak overfitting(MAE).\")\n",
    "else:\n",
    "    print(\"Model overfitting(MAE).\")\n",
    "\n",
    "if abs(r2_train - r2_test) > 0.1: \n",
    "    print(\"Model overfitting(R2).\")\n",
    "else:\n",
    "    print(\"Model tidak overfitting(R2).\")\n"
   ]
  },
  {
   "cell_type": "markdown",
   "metadata": {},
   "source": [
    "Tidak mengalami overfitting dan persentase dari MAE juga kecil sebesar 2.39%"
   ]
  },
  {
   "cell_type": "code",
   "execution_count": 31,
   "metadata": {},
   "outputs": [
    {
     "name": "stdout",
     "output_type": "stream",
     "text": [
      "Model terbaik adalah Random Forest, disimpan sebagai 'best_salary_model.pkl'\n"
     ]
    }
   ],
   "source": [
    "import joblib\n",
    "\n",
    "# Pilih model terbaik berdasarkan R²\n",
    "best_model_name = max(results, key=lambda x: results[x]['R2'])\n",
    "best_model_pipeline = Pipeline(steps=[('preprocessor', preprocessor), ('model', models[best_model_name])])\n",
    "best_model_pipeline.fit(X_train, y_train)\n",
    "\n",
    "# Simpan model\n",
    "joblib.dump(best_model_pipeline, 'best_salary_model.pkl')\n",
    "print(f\"Model terbaik adalah {best_model_name}, disimpan sebagai 'best_salary_model.pkl'\")"
   ]
  },
  {
   "cell_type": "code",
   "execution_count": 32,
   "metadata": {},
   "outputs": [
    {
     "name": "stdout",
     "output_type": "stream",
     "text": [
      "Predicted Salary: $119165\n"
     ]
    }
   ],
   "source": [
    "# Load model untuk prediksi\n",
    "import joblib\n",
    "import pandas as pd\n",
    "\n",
    "# Load model yang telah disimpan\n",
    "loaded_model = joblib.load('best_salary_model.pkl')\n",
    "\n",
    "# Data baru untuk prediksi\n",
    "new_data = pd.DataFrame({\n",
    "    'Age': [65],  # contoh umur\n",
    "    'Gender': ['Female'],  # jenis kelamin\n",
    "    'Education Level': [\"Bachelor's\"],  # tingkat pendidikan\n",
    "    'Job Title': ['Software Engineer'],  # judul pekerjaan\n",
    "    'Years of Experience': [8]  # pengalaman kerja\n",
    "})\n",
    "\n",
    "# Prediksi\n",
    "prediction = loaded_model.predict(new_data)\n",
    "print(f\"Predicted Salary: ${prediction[0]:.0f}\")\n"
   ]
  }
 ],
 "metadata": {
  "kernelspec": {
   "display_name": "ML",
   "language": "python",
   "name": "python3"
  },
  "language_info": {
   "codemirror_mode": {
    "name": "ipython",
    "version": 3
   },
   "file_extension": ".py",
   "mimetype": "text/x-python",
   "name": "python",
   "nbconvert_exporter": "python",
   "pygments_lexer": "ipython3",
   "version": "3.12.8"
  }
 },
 "nbformat": 4,
 "nbformat_minor": 2
}
